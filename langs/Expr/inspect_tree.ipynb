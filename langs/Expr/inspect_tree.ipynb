{
 "cells": [
  {
   "cell_type": "code",
   "execution_count": 6,
   "id": "3fb6a4a4-bd62-4aa2-a018-27066fc37056",
   "metadata": {},
   "outputs": [
    {
     "name": "stdout",
     "output_type": "stream",
     "text": [
      "Import Successful!\n"
     ]
    }
   ],
   "source": [
    "import os\n",
    "import sys\n",
    "from antlr4 import *\n",
    "from ExprLexer import ExprLexer\n",
    "from ExprParser import ExprParser\n",
    "from ExprListener import ExprListener\n",
    "from ExprVisitor import ExprVisitor\n",
    "\n",
    "print(\"Import Successful!\")"
   ]
  },
  {
   "cell_type": "markdown",
   "id": "3452fd59-60da-4d16-bcfe-6c98ec934f8a",
   "metadata": {},
   "source": [
    "# listener"
   ]
  },
  {
   "cell_type": "code",
   "execution_count": 7,
   "id": "77da5363-6c4c-43b3-8e4e-2b9ce94a5aa3",
   "metadata": {},
   "outputs": [],
   "source": [
    "class MyExprListener(ExprListener):\n",
    "    def enterProg(self, ctx:ExprParser.ProgContext):\n",
    "        print(\"Entering program\")\n",
    "\n",
    "    def exitProg(self, ctx:ExprParser.ProgContext):\n",
    "        print(\"Exiting program\")\n",
    "\n",
    "    def enterStat(self, ctx:ExprParser.StatContext):\n",
    "        print(f\"Entering statement: {ctx.getText()}\")\n",
    "\n",
    "    def exitStat(self, ctx:ExprParser.StatContext):\n",
    "        print(f\"Exiting statement: {ctx.getText()}\")\n",
    "\n",
    "    def enterExpr(self, ctx:ExprParser.ExprContext):\n",
    "        print(f\"Entering expression: {ctx.getText()}\")\n",
    "\n",
    "    def exitExpr(self, ctx:ExprParser.ExprContext):\n",
    "        print(f\"Exiting expression: {ctx.getText()}\")\n"
   ]
  },
  {
   "cell_type": "code",
   "execution_count": 11,
   "id": "c699adee-9975-4251-a0e5-04e077063710",
   "metadata": {},
   "outputs": [
    {
     "name": "stdout",
     "output_type": "stream",
     "text": [
      "ANTLR runtime and generated code versions disagree: 4.10!=4.13.1\n",
      "ANTLR runtime and generated code versions disagree: 4.10!=4.13.1\n",
      "Entering program\n",
      "Entering statement: 193\n",
      "\n",
      "Entering expression: 193\n",
      "Exiting expression: 193\n",
      "Exiting statement: 193\n",
      "\n",
      "Entering statement: a=5\n",
      "\n",
      "Entering expression: 5\n",
      "Exiting expression: 5\n",
      "Exiting statement: a=5\n",
      "\n",
      "Entering statement: b=6\n",
      "\n",
      "Entering expression: 6\n",
      "Exiting expression: 6\n",
      "Exiting statement: b=6\n",
      "\n",
      "Entering statement: a+b*2\n",
      "\n",
      "Entering expression: a+b*2\n",
      "Entering expression: a\n",
      "Exiting expression: a\n",
      "Entering expression: b*2\n",
      "Entering expression: b\n",
      "Exiting expression: b\n",
      "Entering expression: 2\n",
      "Exiting expression: 2\n",
      "Exiting expression: b*2\n",
      "Exiting expression: a+b*2\n",
      "Exiting statement: a+b*2\n",
      "\n",
      "Entering statement: (1+2)*3<missing NEWLINE>\n",
      "Entering expression: (1+2)*3\n",
      "Entering expression: (1+2)\n",
      "Entering expression: 1+2\n",
      "Entering expression: 1\n",
      "Exiting expression: 1\n",
      "Entering expression: 2\n",
      "Exiting expression: 2\n",
      "Exiting expression: 1+2\n",
      "Exiting expression: (1+2)\n",
      "Entering expression: 3\n",
      "Exiting expression: 3\n",
      "Exiting expression: (1+2)*3\n",
      "Exiting statement: (1+2)*3<missing NEWLINE>\n",
      "Exiting program\n"
     ]
    },
    {
     "name": "stderr",
     "output_type": "stream",
     "text": [
      "line 5:7 missing NEWLINE at '<EOF>'\n"
     ]
    }
   ],
   "source": [
    "input_path = \"examples/expr.txt\"\n",
    "\n",
    "input_stream = FileStream(input_path)\n",
    "lexer = ExprLexer(input_stream)\n",
    "stream = CommonTokenStream(lexer)\n",
    "parser = ExprParser(stream)\n",
    "tree = parser.prog()\n",
    "\n",
    "listener = MyExprListener()\n",
    "walker = ParseTreeWalker()\n",
    "walker.walk(listener, tree)"
   ]
  },
  {
   "cell_type": "markdown",
   "id": "fc27cb46-cd04-4769-8f8d-5dba71eb745f",
   "metadata": {},
   "source": [
    "# visitor"
   ]
  },
  {
   "cell_type": "code",
   "execution_count": 27,
   "id": "7b8fb5cb-94d1-4880-8153-8d8dc53a19e0",
   "metadata": {},
   "outputs": [],
   "source": [
    "class MyExprVisitor(ExprVisitor):\n",
    "    def visitProg(self, ctx:ExprParser.ProgContext):\n",
    "        print(\"Visiting program\")\n",
    "        return self.visitChildren(ctx)\n",
    "\n",
    "    def visitStat(self, ctx:ExprParser.StatContext):\n",
    "        print(f\"Visiting statement: {ctx.getText()}\")\n",
    "        return self.visitChildren(ctx)\n",
    "\n",
    "    def visitExpr(self, ctx:ExprParser.ExprContext):\n",
    "        if ctx.getChildCount() == 1:  # INT or ID\n",
    "            return ctx.getText()\n",
    "        elif ctx.getChildCount() == 3:\n",
    "            left = self.visit(ctx.getChild(0))\n",
    "            op = ctx.getChild(1).getText()\n",
    "            right = self.visit(ctx.getChild(2))\n",
    "            return f\"({left} {op} {right})\"\n",
    "        elif ctx.getChildCount() == 2:  # Parens (expr)\n",
    "            return self.visit(ctx.getChild(1))\n",
    "\n",
    "    def visitTerminal(self, node):\n",
    "        return node.getText()"
   ]
  },
  {
   "cell_type": "code",
   "execution_count": 28,
   "id": "7a50eb39-e095-48e0-9518-803955392f56",
   "metadata": {},
   "outputs": [
    {
     "name": "stdout",
     "output_type": "stream",
     "text": [
      "Visiting program\n",
      "Visiting statement: 193\n",
      "\n",
      "Visiting statement: a=5\n",
      "\n",
      "Visiting statement: b=6\n",
      "\n",
      "Visiting statement: a+b*2\n",
      "\n",
      "Visiting statement: (1+2)*3<missing NEWLINE>\n",
      "Result: None\n"
     ]
    }
   ],
   "source": [
    "visitor = MyExprVisitor()\n",
    "result = visitor.visit(tree)\n",
    "print(f\"Result: {result}\")"
   ]
  },
  {
   "cell_type": "code",
   "execution_count": 31,
   "id": "5cda0919-5c6e-40a0-a0fe-70c24a09f5c4",
   "metadata": {},
   "outputs": [],
   "source": [
    "class MyExprVisitor(ExprVisitor):\n",
    "    def visitProg(self, ctx:ExprParser.ProgContext):\n",
    "        \"\"\"\n",
    "        Visits each statement in the program, collects the results, and returns them as a list.\n",
    "        \"\"\"\n",
    "        results = []\n",
    "        for stat in ctx.stat():\n",
    "            result = self.visit(stat)\n",
    "            if result is not None:\n",
    "                results.append(result)\n",
    "        return results\n",
    "\n",
    "    def visitStat(self, ctx:ExprParser.StatContext):\n",
    "        \"\"\"\n",
    "        Visits a statement. If it's an expression, it visits the expression.\n",
    "        If it's an assignment (ID = expr), it visits the expression and returns the assignment as a string.\n",
    "        \"\"\"\n",
    "        if ctx.expr():\n",
    "            return self.visit(ctx.expr())\n",
    "        elif ctx.ID():\n",
    "            var_name = ctx.ID().getText()\n",
    "            value = self.visit(ctx.expr())\n",
    "            return f\"{var_name} = {value}\"\n",
    "        else:\n",
    "            return None\n",
    "\n",
    "    def visitExpr(self, ctx:ExprParser.ExprContext):\n",
    "        \"\"\"\n",
    "        Visits expressions. Handles single child nodes (integers or identifiers),\n",
    "        binary operations (recursively visits left and right operands and returns them with the operator in between),\n",
    "        and parenthesized expressions (recursively visits the inner expression).\n",
    "        \"\"\"\n",
    "        if ctx.getChildCount() == 1:  # INT or ID\n",
    "            return ctx.getText()\n",
    "        elif ctx.getChildCount() == 3:\n",
    "            left = self.visit(ctx.getChild(0))\n",
    "            op = ctx.getChild(1).getText()\n",
    "            right = self.visit(ctx.getChild(2))\n",
    "            return f\"({left} {op} {right})\"\n",
    "        elif ctx.getChildCount() == 2:  # Parens (expr)\n",
    "            return self.visit(ctx.getChild(1))\n"
   ]
  },
  {
   "cell_type": "code",
   "execution_count": 32,
   "id": "f122a3ed-c479-4128-af2b-de589bff87e2",
   "metadata": {},
   "outputs": [
    {
     "name": "stdout",
     "output_type": "stream",
     "text": [
      "Result: ['193', '5', '6', '(a + (b * 2))', '((None 1+2 None) * 3)']\n"
     ]
    }
   ],
   "source": [
    "visitor = MyExprVisitor()\n",
    "result = visitor.visit(tree)\n",
    "print(f\"Result: {result}\")"
   ]
  },
  {
   "cell_type": "markdown",
   "id": "36090054-be0a-49ff-b6c8-00ed3b3907bd",
   "metadata": {},
   "source": [
    "Here's a comparative table highlighting the differences between the Visitor and Listener patterns in ANTLR:\n",
    "\n",
    "| Aspect                      | Visitor                                    | Listener                                   |\n",
    "|-----------------------------|--------------------------------------------|--------------------------------------------|\n",
    "| **Traversal Type**          | Explicit traversal                         | Implicit traversal                         |\n",
    "| **Entry/Exit Handling**     | You visit nodes explicitly and control traversal. | Entry and exit methods are automatically called for each node. |\n",
    "| **Method Invocation**       | `visit` method is used to traverse nodes.  | `enter` and `exit` methods are called as the tree is walked. |\n",
    "| **Node Access**             | You have to explicitly call `visit` on each node you want to process. | Automatically handles traversal based on the grammar rules. |\n",
    "| **Return Values**           | Can return values from `visit` methods.    | Typically used for side-effects; not designed to return values. |\n",
    "| **Use Case**                | When you need to transform or compute values from the parse tree. | When you want to perform actions or side-effects based on the parse tree structure. |\n",
    "| **Code Complexity**         | Can be more complex due to explicit node visits and managing state. | Typically simpler, as you handle nodes as they are visited or exited. |\n",
    "| **Flexibility**             | High flexibility; you control traversal and can visit nodes in any order. | Less flexible; traversal is handled by the framework and is usually in a depth-first manner. |\n",
    "| **State Management**        | Explicit management of state and results.  | Typically, state is managed using instance variables or external structures. |\n",
    "| **Example Use Case**        | Generating a formatted output or evaluating expressions. | Logging or collecting statistics as the tree is traversed. |\n",
    "| **Grammar Definition**      | Better for complex transformations or evaluations. | Better for simple actions that don't need to manipulate the tree. |\n",
    "\n",
    "### Visitor Pattern\n",
    "\n",
    "**When to Use:**\n",
    "- When you need to perform complex operations on the parse tree.\n",
    "- When you need to collect results or compute values as you traverse the tree.\n",
    "- When you want full control over traversal and node processing.\n",
    "\n",
    "**Advantages:**\n",
    "- Allows for more complex processing and transformations.\n",
    "- You can return values and perform computations during traversal.\n",
    "- More control over traversal order and processing logic.\n",
    "\n",
    "**Disadvantages:**\n",
    "- Can be more complex to implement.\n",
    "- Requires explicit calls to `visit` methods for each node.\n",
    "\n",
    "### Listener Pattern\n",
    "\n",
    "**When to Use:**\n",
    "- When you need to perform actions or side-effects based on node visits.\n",
    "- When you want to keep the implementation simple and handle nodes as they are visited or exited.\n",
    "- When you want automatic traversal without managing it explicitly.\n",
    "\n",
    "**Advantages:**\n",
    "- Simpler to implement for straightforward actions.\n",
    "- Automatic handling of traversal based on grammar rules.\n",
    "- Suitable for tasks like logging or collecting statistics.\n",
    "\n",
    "**Disadvantages:**\n",
    "- Less control over traversal and node processing.\n",
    "- Generally not used for complex transformations or computations.\n",
    "\n",
    "### Example Comparison\n",
    "\n",
    "**Visitor Example:**\n",
    "```python\n",
    "def visitExpr(self, ctx:ExprParser.ExprContext):\n",
    "    if ctx.getChildCount() == 1:\n",
    "        return ctx.getText()\n",
    "    elif ctx.getChildCount() == 3:\n",
    "        left = self.visit(ctx.getChild(0))\n",
    "        op = ctx.getChild(1).getText()\n",
    "        right = self.visit(ctx.getChild(2))\n",
    "        return f\"({left} {op} {right})\"\n",
    "    elif ctx.getChildCount() == 2:\n",
    "        return self.visit(ctx.getChild(1))\n",
    "```\n",
    "\n",
    "**Listener Example:**\n",
    "```python\n",
    "def enterExpr(self, ctx:ExprParser.ExprContext):\n",
    "    print(f\"Entering expression: {ctx.getText()}\")\n",
    "\n",
    "def exitExpr(self, ctx:ExprParser.ExprContext):\n",
    "    print(f\"Exiting expression: {ctx.getText()}\")\n",
    "```\n",
    "\n",
    "In summary, the Visitor pattern provides more control and flexibility, especially useful for complex processing and transformations. The Listener pattern is more straightforward and well-suited for tasks that involve simple actions or side-effects during tree traversal."
   ]
  }
 ],
 "metadata": {
  "kernelspec": {
   "display_name": "Python 3 (ipykernel)",
   "language": "python",
   "name": "python3"
  },
  "language_info": {
   "codemirror_mode": {
    "name": "ipython",
    "version": 3
   },
   "file_extension": ".py",
   "mimetype": "text/x-python",
   "name": "python",
   "nbconvert_exporter": "python",
   "pygments_lexer": "ipython3",
   "version": "3.8.19"
  }
 },
 "nbformat": 4,
 "nbformat_minor": 5
}
