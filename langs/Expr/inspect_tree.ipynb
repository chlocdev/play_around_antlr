{
 "cells": [
  {
   "cell_type": "code",
   "execution_count": 6,
   "id": "3fb6a4a4-bd62-4aa2-a018-27066fc37056",
   "metadata": {},
   "outputs": [
    {
     "name": "stdout",
     "output_type": "stream",
     "text": [
      "Import Successful!\n"
     ]
    }
   ],
   "source": [
    "import os\n",
    "import sys\n",
    "from antlr4 import *\n",
    "from ExprLexer import ExprLexer\n",
    "from ExprParser import ExprParser\n",
    "from ExprListener import ExprListener\n",
    "from ExprVisitor import ExprVisitor\n",
    "\n",
    "print(\"Import Successful!\")"
   ]
  },
  {
   "cell_type": "markdown",
   "id": "3452fd59-60da-4d16-bcfe-6c98ec934f8a",
   "metadata": {},
   "source": [
    "# listener"
   ]
  },
  {
   "cell_type": "code",
   "execution_count": 7,
   "id": "77da5363-6c4c-43b3-8e4e-2b9ce94a5aa3",
   "metadata": {},
   "outputs": [],
   "source": [
    "class MyExprListener(ExprListener):\n",
    "    def enterProg(self, ctx:ExprParser.ProgContext):\n",
    "        print(\"Entering program\")\n",
    "\n",
    "    def exitProg(self, ctx:ExprParser.ProgContext):\n",
    "        print(\"Exiting program\")\n",
    "\n",
    "    def enterStat(self, ctx:ExprParser.StatContext):\n",
    "        print(f\"Entering statement: {ctx.getText()}\")\n",
    "\n",
    "    def exitStat(self, ctx:ExprParser.StatContext):\n",
    "        print(f\"Exiting statement: {ctx.getText()}\")\n",
    "\n",
    "    def enterExpr(self, ctx:ExprParser.ExprContext):\n",
    "        print(f\"Entering expression: {ctx.getText()}\")\n",
    "\n",
    "    def exitExpr(self, ctx:ExprParser.ExprContext):\n",
    "        print(f\"Exiting expression: {ctx.getText()}\")\n"
   ]
  },
  {
   "cell_type": "code",
   "execution_count": 11,
   "id": "c699adee-9975-4251-a0e5-04e077063710",
   "metadata": {},
   "outputs": [
    {
     "name": "stdout",
     "output_type": "stream",
     "text": [
      "ANTLR runtime and generated code versions disagree: 4.10!=4.13.1\n",
      "ANTLR runtime and generated code versions disagree: 4.10!=4.13.1\n",
      "Entering program\n",
      "Entering statement: 193\n",
      "\n",
      "Entering expression: 193\n",
      "Exiting expression: 193\n",
      "Exiting statement: 193\n",
      "\n",
      "Entering statement: a=5\n",
      "\n",
      "Entering expression: 5\n",
      "Exiting expression: 5\n",
      "Exiting statement: a=5\n",
      "\n",
      "Entering statement: b=6\n",
      "\n",
      "Entering expression: 6\n",
      "Exiting expression: 6\n",
      "Exiting statement: b=6\n",
      "\n",
      "Entering statement: a+b*2\n",
      "\n",
      "Entering expression: a+b*2\n",
      "Entering expression: a\n",
      "Exiting expression: a\n",
      "Entering expression: b*2\n",
      "Entering expression: b\n",
      "Exiting expression: b\n",
      "Entering expression: 2\n",
      "Exiting expression: 2\n",
      "Exiting expression: b*2\n",
      "Exiting expression: a+b*2\n",
      "Exiting statement: a+b*2\n",
      "\n",
      "Entering statement: (1+2)*3<missing NEWLINE>\n",
      "Entering expression: (1+2)*3\n",
      "Entering expression: (1+2)\n",
      "Entering expression: 1+2\n",
      "Entering expression: 1\n",
      "Exiting expression: 1\n",
      "Entering expression: 2\n",
      "Exiting expression: 2\n",
      "Exiting expression: 1+2\n",
      "Exiting expression: (1+2)\n",
      "Entering expression: 3\n",
      "Exiting expression: 3\n",
      "Exiting expression: (1+2)*3\n",
      "Exiting statement: (1+2)*3<missing NEWLINE>\n",
      "Exiting program\n"
     ]
    },
    {
     "name": "stderr",
     "output_type": "stream",
     "text": [
      "line 5:7 missing NEWLINE at '<EOF>'\n"
     ]
    }
   ],
   "source": [
    "input_path = \"examples/expr.txt\"\n",
    "\n",
    "input_stream = FileStream(input_path)\n",
    "lexer = ExprLexer(input_stream)\n",
    "stream = CommonTokenStream(lexer)\n",
    "parser = ExprParser(stream)\n",
    "tree = parser.prog()\n",
    "\n",
    "listener = MyExprListener()\n",
    "walker = ParseTreeWalker()\n",
    "walker.walk(listener, tree)"
   ]
  },
  {
   "cell_type": "markdown",
   "id": "fc27cb46-cd04-4769-8f8d-5dba71eb745f",
   "metadata": {},
   "source": [
    "# visitor"
   ]
  },
  {
   "cell_type": "code",
   "execution_count": 27,
   "id": "7b8fb5cb-94d1-4880-8153-8d8dc53a19e0",
   "metadata": {},
   "outputs": [],
   "source": [
    "class MyExprVisitor(ExprVisitor):\n",
    "    def visitProg(self, ctx:ExprParser.ProgContext):\n",
    "        print(\"Visiting program\")\n",
    "        return self.visitChildren(ctx)\n",
    "\n",
    "    def visitStat(self, ctx:ExprParser.StatContext):\n",
    "        print(f\"Visiting statement: {ctx.getText()}\")\n",
    "        return self.visitChildren(ctx)\n",
    "\n",
    "    def visitExpr(self, ctx:ExprParser.ExprContext):\n",
    "        if ctx.getChildCount() == 1:  # INT or ID\n",
    "            return ctx.getText()\n",
    "        elif ctx.getChildCount() == 3:\n",
    "            left = self.visit(ctx.getChild(0))\n",
    "            op = ctx.getChild(1).getText()\n",
    "            right = self.visit(ctx.getChild(2))\n",
    "            return f\"({left} {op} {right})\"\n",
    "        elif ctx.getChildCount() == 2:  # Parens (expr)\n",
    "            return self.visit(ctx.getChild(1))\n",
    "\n",
    "    def visitTerminal(self, node):\n",
    "        return node.getText()"
   ]
  },
  {
   "cell_type": "code",
   "execution_count": 28,
   "id": "7a50eb39-e095-48e0-9518-803955392f56",
   "metadata": {},
   "outputs": [
    {
     "name": "stdout",
     "output_type": "stream",
     "text": [
      "Visiting program\n",
      "Visiting statement: 193\n",
      "\n",
      "Visiting statement: a=5\n",
      "\n",
      "Visiting statement: b=6\n",
      "\n",
      "Visiting statement: a+b*2\n",
      "\n",
      "Visiting statement: (1+2)*3<missing NEWLINE>\n",
      "Result: None\n"
     ]
    }
   ],
   "source": [
    "visitor = MyExprVisitor()\n",
    "result = visitor.visit(tree)\n",
    "print(f\"Result: {result}\")"
   ]
  },
  {
   "cell_type": "code",
   "execution_count": 29,
   "id": "5cda0919-5c6e-40a0-a0fe-70c24a09f5c4",
   "metadata": {},
   "outputs": [],
   "source": [
    "class MyExprVisitor(ExprVisitor):\n",
    "    def visitProg(self, ctx:ExprParser.ProgContext):\n",
    "        \"\"\"\n",
    "        Visits each statement in the program, collects the results, and returns them as a list.\n",
    "        \"\"\"\n",
    "        results = []\n",
    "        for stat in ctx.stat():\n",
    "            result = self.visit(stat)\n",
    "            if result is not None:\n",
    "                results.append(result)\n",
    "        return results\n",
    "\n",
    "    def visitStat(self, ctx:ExprParser.StatContext):\n",
    "        if ctx.expr():\n",
    "            return self.visit(ctx.expr())\n",
    "        elif ctx.ID():\n",
    "            var_name = ctx.ID().getText()\n",
    "            value = self.visit(ctx.expr())\n",
    "            return f\"{var_name} = {value}\"\n",
    "        else:\n",
    "            return None\n",
    "\n",
    "    def visitExpr(self, ctx:ExprParser.ExprContext):\n",
    "        if ctx.getChildCount() == 1:  # INT or ID\n",
    "            return ctx.getText()\n",
    "        elif ctx.getChildCount() == 3:\n",
    "            left = self.visit(ctx.getChild(0))\n",
    "            op = ctx.getChild(1).getText()\n",
    "            right = self.visit(ctx.getChild(2))\n",
    "            return f\"({left} {op} {right})\"\n",
    "        elif ctx.getChildCount() == 2:  # Parens (expr)\n",
    "            return self.visit(ctx.getChild(1))\n"
   ]
  },
  {
   "cell_type": "code",
   "execution_count": 30,
   "id": "f122a3ed-c479-4128-af2b-de589bff87e2",
   "metadata": {},
   "outputs": [
    {
     "name": "stdout",
     "output_type": "stream",
     "text": [
      "Result: ['193', '5', '6', '(a + (b * 2))', '((None 1+2 None) * 3)']\n"
     ]
    }
   ],
   "source": [
    "visitor = MyExprVisitor()\n",
    "result = visitor.visit(tree)\n",
    "print(f\"Result: {result}\")"
   ]
  },
  {
   "cell_type": "code",
   "execution_count": null,
   "id": "b338fb6e-7775-48bf-9aee-3737a201fb07",
   "metadata": {},
   "outputs": [],
   "source": []
  }
 ],
 "metadata": {
  "kernelspec": {
   "display_name": "Python 3 (ipykernel)",
   "language": "python",
   "name": "python3"
  },
  "language_info": {
   "codemirror_mode": {
    "name": "ipython",
    "version": 3
   },
   "file_extension": ".py",
   "mimetype": "text/x-python",
   "name": "python",
   "nbconvert_exporter": "python",
   "pygments_lexer": "ipython3",
   "version": "3.8.19"
  }
 },
 "nbformat": 4,
 "nbformat_minor": 5
}
