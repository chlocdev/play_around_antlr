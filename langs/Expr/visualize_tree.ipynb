{
 "cells": [
  {
   "cell_type": "code",
   "execution_count": 1,
   "id": "c38c102d-0253-4643-a653-71514c995ff5",
   "metadata": {},
   "outputs": [
    {
     "name": "stdout",
     "output_type": "stream",
     "text": [
      "Import Successful!\n"
     ]
    }
   ],
   "source": [
    "import os\n",
    "import sys\n",
    "from antlr4 import *\n",
    "from ExprLexer import ExprLexer as Lexer\n",
    "from ExprParser import ExprParser as Parser\n",
    "from antlr4.tree.Trees import Trees\n",
    "from graphviz import Digraph\n",
    "\n",
    "# Init\n",
    "print(\"Import Successful!\")\n",
    "\n",
    "def get_node_name(node) ->str:\n",
    "    \"\"\"\n",
    "    Function Extract Node Type\n",
    "    \n",
    "    Args:\n",
    "        node: Node\n",
    "    Returns:\n",
    "        node_name: Name of Node\n",
    "    \"\"\"\n",
    "    # init\n",
    "    node_name = \"Unknown\"\n",
    "    raw_type_string = str(type(node))\n",
    "\n",
    "    if \"TerminalNode\" in raw_type_string:\n",
    "        node_name = str(node)\n",
    "        return node_name.strip()\n",
    "\n",
    "    # find the start-end positions\n",
    "    start_index = raw_type_string.find(\"'\")  # Find the first occurrence of '\n",
    "    end_index = raw_type_string.rfind(\"'\")   # Find the last occurrence of '\n",
    "\n",
    "    if start_index != -1 and end_index != -1:\n",
    "        node_name = raw_type_string[start_index + 1:end_index]\n",
    "        node_name = node_name.split('.')[-1]\n",
    "        #node_name = node_name.replace(\"Context\",\"\")\n",
    "    \n",
    "    return node_name\n",
    "\n",
    "def traverse_tree(dot, tree):\n",
    "    # If current tree is not a leaf-node\n",
    "    if tree.getChildCount() > 0:\n",
    "        # Get parent string\n",
    "        parent_str = get_node_name(tree) + \"\\n[\" + str(id(tree)) + \"]\"\n",
    "\n",
    "        for child in tree.children:\n",
    "            # Get child string\n",
    "            child_str = get_node_name(child) + \"\\n[\" + str(id(child)) + \"]\"\n",
    "\n",
    "            # Give a edge from parent - child\n",
    "            dot.edge(parent_str, child_str)\n",
    "            # Continue traverse to recursively\n",
    "            traverse_tree(dot, child)\n",
    "\n",
    "def visualize_parse_tree(input_string)->None:\n",
    "\n",
    "    input_stream = InputStream(input_string)\n",
    "    lexer = Lexer(input_stream)\n",
    "    stream = CommonTokenStream(lexer)\n",
    "    parser = Parser(stream)\n",
    "    tree = parser.prog() # custom here\n",
    "\n",
    "    # Convert parse tree to string representation\n",
    "    tree_str = Trees.toStringTree(tree, None, parser)\n",
    "\n",
    "    # Create a graphviz Digraph\n",
    "    dot = Digraph()\n",
    "    traverse_tree(dot, tree)\n",
    "\n",
    "    # Render and display the parse tree\n",
    "    dot.render('parse_tree', format='png', view=True)"
   ]
  },
  {
   "cell_type": "code",
   "execution_count": 3,
   "id": "0a722d4b-84a4-4eb5-a4ff-748cbcd08cd7",
   "metadata": {},
   "outputs": [
    {
     "name": "stdout",
     "output_type": "stream",
     "text": [
      "example/expr.txt\n",
      "193\n",
      "a = 5\n",
      "b = 6\n",
      "a+b*2\n",
      "(1+2)*3\n"
     ]
    }
   ],
   "source": [
    "input_path = \"examples/expr.txt\"\n",
    "\n",
    "with open(input_path, \"r\") as f:\n",
    "    input_string = f.read().strip()\n",
    "\n",
    "print(f\"{input_path}\\n{input_string}\")"
   ]
  },
  {
   "cell_type": "code",
   "execution_count": 5,
   "id": "2f0dfc88-ba2c-464d-8082-7d5dad0c91fe",
   "metadata": {},
   "outputs": [
    {
     "name": "stdout",
     "output_type": "stream",
     "text": [
      "ANTLR runtime and generated code versions disagree: 4.10!=4.13.1\n",
      "ANTLR runtime and generated code versions disagree: 4.10!=4.13.1\n"
     ]
    },
    {
     "name": "stderr",
     "output_type": "stream",
     "text": [
      "line 5:7 missing NEWLINE at '<EOF>'\n"
     ]
    }
   ],
   "source": [
    "visualize_parse_tree(input_string)"
   ]
  },
  {
   "cell_type": "code",
   "execution_count": null,
   "id": "f089ab05-d671-4ad9-904e-a4b5a4d9e2b4",
   "metadata": {},
   "outputs": [],
   "source": []
  }
 ],
 "metadata": {
  "kernelspec": {
   "display_name": "Python 3 (ipykernel)",
   "language": "python",
   "name": "python3"
  },
  "language_info": {
   "codemirror_mode": {
    "name": "ipython",
    "version": 3
   },
   "file_extension": ".py",
   "mimetype": "text/x-python",
   "name": "python",
   "nbconvert_exporter": "python",
   "pygments_lexer": "ipython3",
   "version": "3.8.19"
  }
 },
 "nbformat": 4,
 "nbformat_minor": 5
}
